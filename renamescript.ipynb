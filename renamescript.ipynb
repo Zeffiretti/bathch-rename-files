{
 "metadata": {
  "language_info": {
   "codemirror_mode": {
    "name": "ipython",
    "version": 3
   },
   "file_extension": ".py",
   "mimetype": "text/x-python",
   "name": "python",
   "nbconvert_exporter": "python",
   "pygments_lexer": "ipython3",
   "version": "3.8.3-final"
  },
  "orig_nbformat": 2,
  "kernelspec": {
   "name": "python3",
   "display_name": "Python 3",
   "language": "python"
  }
 },
 "nbformat": 4,
 "nbformat_minor": 2,
 "cells": [
  {
   "cell_type": "code",
   "execution_count": 2,
   "metadata": {},
   "outputs": [],
   "source": [
    "# -*- coding: utf-8 -*-\n",
    "\n",
    "import os\n",
    "#对所有文件以数字递增的方式重命名\n",
    "def file_rename():\n",
    "    i = 0\n",
    "    #需要重命名的文件绝对路径\n",
    "    path = r\"D:\\zeffi\\Desktop\\WORK\\rename\"\n",
    "     #读取该文件夹下所有的文件\n",
    "    filelist = os.listdir(path)  \n",
    "    #遍历所有文件\n",
    "    for files in filelist:   \n",
    "        i = i + 1\n",
    "        Olddir = os.path.join(path, files)    #原来的文件路径\n",
    "        if os.path.isdir(Olddir):       #如果是文件夹则跳过\n",
    "                continue\n",
    "        #os.path.splitext(path)  #分割路径，返回路径名和文件扩展名的元组\n",
    "        #文件名，此处没用到\n",
    "        filename = os.path.splitext(files)[0]     \n",
    "        #文件扩展名\n",
    "        filetype = os.path.splitext(files)[1]         #如果你不想改变文件类型的话，使用原始扩展名\n",
    "        newName=\"제5공화국.E\"+str(i).zfill(2)+\".SDTVRip.XviD-LUXURY\"+filetype  # 每次使用时设定\n",
    "        Newdir = os.path.join(path, newName)   #新的文件路径\n",
    "        os.rename(Olddir, Newdir)   \n",
    "    return True\n",
    "\n",
    "if __name__ == '__main__':\n",
    "    file_rename()"
   ]
  },
  {
   "cell_type": "code",
   "execution_count": null,
   "metadata": {},
   "outputs": [],
   "source": []
  }
 ]
}